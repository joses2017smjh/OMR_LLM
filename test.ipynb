{
 "cells": [
  {
   "cell_type": "code",
   "execution_count": 1,
   "metadata": {},
   "outputs": [
    {
     "name": "stderr",
     "output_type": "stream",
     "text": [
      "/Users/josh/miniconda3/envs/nlp-hw2/lib/python3.13/site-packages/tqdm/auto.py:21: TqdmWarning: IProgress not found. Please update jupyter and ipywidgets. See https://ipywidgets.readthedocs.io/en/stable/user_install.html\n",
      "  from .autonotebook import tqdm as notebook_tqdm\n"
     ]
    }
   ],
   "source": [
    "from data.MathQA import MathQA\n",
    "\n",
    "import torch\n",
    "from torch.utils.data import Dataset, DataLoader"
   ]
  },
  {
   "cell_type": "code",
   "execution_count": 2,
   "metadata": {},
   "outputs": [
    {
     "name": "stdout",
     "output_type": "stream",
     "text": [
      "Loading MathQA train dataset\n",
      "Loading MathQA test dataset\n",
      "Building source vocab\n"
     ]
    }
   ],
   "source": [
    "mathqa = MathQA()\n",
    "mathqa_len = mathqa.__len__()\n",
    "\n",
    "train_percent = 0.8\n",
    "train_len = int(mathqa_len*0.8)\n",
    "test_len = mathqa_len - train_len\n",
    "\n",
    "train_set, test_set = torch.utils.data.random_split(mathqa, [train_len, test_len])"
   ]
  },
  {
   "cell_type": "code",
   "execution_count": 3,
   "metadata": {},
   "outputs": [],
   "source": [
    "trainloader =DataLoader(train_set, batch_size=4, num_workers=4, shuffle=True, collate_fn=mathqa.pad_collate, drop_last=True)\n",
    "testloader = DataLoader(test_set, batch_size=4, num_workers=4, shuffle=True, collate_fn=mathqa.pad_collate, drop_last=True)"
   ]
  },
  {
   "cell_type": "code",
   "execution_count": null,
   "metadata": {},
   "outputs": [],
   "source": []
  }
 ],
 "metadata": {
  "kernelspec": {
   "display_name": "nlp-hw2",
   "language": "python",
   "name": "python3"
  },
  "language_info": {
   "codemirror_mode": {
    "name": "ipython",
    "version": 3
   },
   "file_extension": ".py",
   "mimetype": "text/x-python",
   "name": "python",
   "nbconvert_exporter": "python",
   "pygments_lexer": "ipython3",
   "version": "3.13.2"
  }
 },
 "nbformat": 4,
 "nbformat_minor": 2
}
