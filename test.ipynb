{
 "cells": [
  {
   "cell_type": "code",
   "execution_count": 2,
   "metadata": {},
   "outputs": [
    {
     "name": "stderr",
     "output_type": "stream",
     "text": [
      "/Users/josh/miniconda3/envs/nlp-hw2/lib/python3.13/site-packages/tqdm/auto.py:21: TqdmWarning: IProgress not found. Please update jupyter and ipywidgets. See https://ipywidgets.readthedocs.io/en/stable/user_install.html\n",
      "  from .autonotebook import tqdm as notebook_tqdm\n"
     ]
    }
   ],
   "source": [
    "from data.MathQA import MathQA\n",
    "from models.DecoderTransformer import DecoderTransformer\n",
    "\n",
    "import torch\n",
    "from torch import nn\n",
    "from torch.utils.data import Dataset, DataLoader"
   ]
  },
  {
   "cell_type": "code",
   "execution_count": 3,
   "metadata": {},
   "outputs": [
    {
     "name": "stdout",
     "output_type": "stream",
     "text": [
      "Loading MathQA train dataset\n",
      "Loading MathQA test dataset\n",
      "Building source vocab\n"
     ]
    }
   ],
   "source": [
    "mathqa = MathQA()\n",
    "mathqa_len = mathqa.__len__()\n",
    "\n",
    "train_percent = 0.8\n",
    "train_len = int(mathqa_len*0.8)\n",
    "test_len = mathqa_len - train_len\n",
    "\n",
    "train_set, test_set = torch.utils.data.random_split(mathqa, [train_len, test_len])"
   ]
  },
  {
   "cell_type": "code",
   "execution_count": 4,
   "metadata": {},
   "outputs": [
    {
     "name": "stdout",
     "output_type": "stream",
     "text": [
      "['<SOS>', 'add', 'const_1', 'const_2', 'multiply', 'n0', 'n1', 'add', '#0', 'const_1', 'add', '#2', 'const_1', 'add', '#3', 'const_1', 'add', '#4', 'const_1', 'add', '#5', 'const_1', 'add', '#6', 'const_1', 'add', '#7', 'const_1', 'add', '#8', 'const_1', 'add', '#8', '#9', 'subtract', '#1', '#10', 'divide', '#11', 'n0', 'add', '#4', '#12', '<EOS>']\n"
     ]
    }
   ],
   "source": [
    "print(mathqa.trg_vocab.idx2text(train_set[0][1].numpy()))"
   ]
  },
  {
   "cell_type": "code",
   "execution_count": 9,
   "metadata": {},
   "outputs": [],
   "source": [
    "trainloader =DataLoader(train_set, batch_size=4, num_workers=4, shuffle=True, collate_fn=mathqa.pad_collate, drop_last=True)\n",
    "testloader = DataLoader(test_set, batch_size=4, num_workers=4, shuffle=True, collate_fn=mathqa.pad_collate, drop_last=True)"
   ]
  },
  {
   "cell_type": "code",
   "execution_count": 8,
   "metadata": {},
   "outputs": [
    {
     "name": "stdout",
     "output_type": "stream",
     "text": [
      "torch.Size([32, 10, 315])\n"
     ]
    }
   ],
   "source": [
    "decoder = DecoderTransformer(\n",
    "    src_vocab_size=mathqa.src_vocab.__len__(),\n",
    "    trg_vocab_size=mathqa.trg_vocab.__len__(),\n",
    "    embed_dim=256,\n",
    "    max_src_len=128,\n",
    "    max_trg_len=128,\n",
    "    num_layers=2,\n",
    "    num_heads=2\n",
    ")\n",
    "\n",
    "src_seq = torch.zeros((32, 20), dtype=int)\n",
    "trg_seq = torch.zeros((32, 10), dtype=int)\n",
    "\n",
    "output = decoder(src_seq, trg_seq)\n",
    "print(output.shape)"
   ]
  },
  {
   "cell_type": "code",
   "execution_count": 17,
   "metadata": {},
   "outputs": [
    {
     "name": "stdout",
     "output_type": "stream",
     "text": [
      "torch.Size([4, 40])\n",
      "torch.Size([4, 21])\n",
      "torch.Size([4, 21, 315])\n"
     ]
    }
   ],
   "source": [
    "for batch, data in enumerate(trainloader):\n",
    "    x = data[0]\n",
    "    y = data[1]\n",
    "\n",
    "    print(x.shape)\n",
    "    print(y.shape)\n",
    "\n",
    "    output = decoder(x, y)\n",
    "    print(output.shape)\n",
    "\n",
    "    break"
   ]
  },
  {
   "cell_type": "code",
   "execution_count": null,
   "metadata": {},
   "outputs": [],
   "source": []
  }
 ],
 "metadata": {
  "kernelspec": {
   "display_name": "nlp-hw2",
   "language": "python",
   "name": "python3"
  },
  "language_info": {
   "codemirror_mode": {
    "name": "ipython",
    "version": 3
   },
   "file_extension": ".py",
   "mimetype": "text/x-python",
   "name": "python",
   "nbconvert_exporter": "python",
   "pygments_lexer": "ipython3",
   "version": "3.13.2"
  }
 },
 "nbformat": 4,
 "nbformat_minor": 2
}
