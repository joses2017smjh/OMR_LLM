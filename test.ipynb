{
 "cells": [
  {
   "cell_type": "code",
   "execution_count": 1,
   "metadata": {},
   "outputs": [
    {
     "name": "stderr",
     "output_type": "stream",
     "text": [
      "/Users/josh/miniconda3/envs/nlp-hw2/lib/python3.13/site-packages/tqdm/auto.py:21: TqdmWarning: IProgress not found. Please update jupyter and ipywidgets. See https://ipywidgets.readthedocs.io/en/stable/user_install.html\n",
      "  from .autonotebook import tqdm as notebook_tqdm\n"
     ]
    }
   ],
   "source": [
    "from data.MathQA import MathQA\n",
    "from models.DecoderTransformer import DecoderTransformer\n",
    "\n",
    "import torch\n",
    "from torch import nn\n",
    "from torch.utils.data import Dataset, DataLoader"
   ]
  },
  {
   "cell_type": "code",
   "execution_count": 2,
   "metadata": {},
   "outputs": [
    {
     "name": "stdout",
     "output_type": "stream",
     "text": [
      "Loading MathQA train dataset\n",
      "Building source vocab\n",
      "Loading MathQA test dataset\n",
      "Loading MathQA validation dataset\n",
      "29837 2985 4475\n"
     ]
    }
   ],
   "source": [
    "train_set = MathQA(split='train')\n",
    "src_vocab = train_set.src_vocab\n",
    "\n",
    "test_set = MathQA(src_vocab=src_vocab, split='test')\n",
    "validation_set = MathQA(src_vocab=src_vocab, split='validation')\n",
    "\n",
    "print(len(train_set), len(test_set), len(validation_set))"
   ]
  },
  {
   "cell_type": "code",
   "execution_count": 3,
   "metadata": {},
   "outputs": [],
   "source": [
    "trainloader =DataLoader(train_set, batch_size=32, num_workers=4, shuffle=True, collate_fn=test_set.pad_collate, drop_last=True)\n",
    "testloader = DataLoader(test_set, batch_size=32, num_workers=4, shuffle=True, collate_fn=test_set.pad_collate, drop_last=True)"
   ]
  },
  {
   "cell_type": "code",
   "execution_count": null,
   "metadata": {},
   "outputs": [],
   "source": []
  },
  {
   "cell_type": "code",
   "execution_count": 5,
   "metadata": {},
   "outputs": [
    {
     "name": "stdout",
     "output_type": "stream",
     "text": [
      "torch.Size([32, 155])\n",
      "torch.Size([32, 41])\n"
     ]
    }
   ],
   "source": [
    "for batch, data in enumerate(trainloader):\n",
    "    x = data[0]\n",
    "    y = data[1]\n",
    "\n",
    "    print(x.shape)\n",
    "    print(y.shape)\n",
    "\n",
    "    #output = decoder(x, y)\n",
    "    #print(output.shape)\n",
    "\n",
    "    break"
   ]
  },
  {
   "cell_type": "code",
   "execution_count": null,
   "metadata": {},
   "outputs": [],
   "source": [
    "chkpt_path = \"./chkpts/decoder_transformer_test_9\"\n",
    "chkpt = torch.load(chkpt_path, weights_only=False, map_location=torch.device('mps'))\n",
    "\n",
    "decoder = DecoderTransformer(\n",
    "    src_vocab_size=mathqa.src_vocab.__len__(),\n",
    "    trg_vocab_size=mathqa.trg_vocab.__len__(),\n",
    "    embed_dim=256,\n",
    "    num_layers=12,\n",
    "    num_heads=8,\n",
    "    max_trg_len=100,\n",
    ")\n",
    "\n",
    "#decoder.load_state_dict(chkpt['model_state_dict'])\n",
    "decoder.to('mps')\n",
    "\n",
    "trainable_params = sum(p.numel() for p in decoder.parameters() if p.requires_grad)\n",
    "print(trainable_params)"
   ]
  },
  {
   "cell_type": "code",
   "execution_count": null,
   "metadata": {},
   "outputs": [],
   "source": []
  }
 ],
 "metadata": {
  "kernelspec": {
   "display_name": "nlp-hw2",
   "language": "python",
   "name": "python3"
  },
  "language_info": {
   "codemirror_mode": {
    "name": "ipython",
    "version": 3
   },
   "file_extension": ".py",
   "mimetype": "text/x-python",
   "name": "python",
   "nbconvert_exporter": "python",
   "pygments_lexer": "ipython3",
   "version": "3.13.2"
  }
 },
 "nbformat": 4,
 "nbformat_minor": 2
}
