{
 "cells": [
  {
   "cell_type": "code",
   "execution_count": 1,
   "metadata": {},
   "outputs": [],
   "source": [
    "from data.MathQA import MathQA, GloVeVocab\n",
    "from models.DecoderTransformer import DecoderTransformer\n",
    "\n",
    "import torch\n",
    "from torch import nn\n",
    "from torch.utils.data import Dataset, DataLoader"
   ]
  },
  {
   "cell_type": "code",
   "execution_count": 3,
   "metadata": {},
   "outputs": [
    {
     "name": "stdout",
     "output_type": "stream",
     "text": [
      "Loading MathQA train dataset\n",
      "Loading MathQA test dataset\n",
      "Loading MathQA validation dataset\n",
      "29837 2985 4475\n"
     ]
    }
   ],
   "source": [
    "src_vocab = GloVeVocab(dim=300)\n",
    "\n",
    "train_set = MathQA(src_vocab=src_vocab, split='train')\n",
    "\n",
    "test_set = MathQA(src_vocab=src_vocab, split='test')\n",
    "validation_set = MathQA(src_vocab=src_vocab, split='validation')\n",
    "\n",
    "print(len(train_set), len(test_set), len(validation_set))"
   ]
  },
  {
   "cell_type": "code",
   "execution_count": null,
   "metadata": {},
   "outputs": [],
   "source": [
    "trainloader = DataLoader(train_set, batch_size=32, num_workers=4, shuffle=True, collate_fn=test_set.pad_collate, drop_last=True)\n",
    "testloader = DataLoader(test_set, batch_size=32, num_workers=4, shuffle=True, collate_fn=test_set.pad_collate, drop_last=True)"
   ]
  },
  {
   "cell_type": "code",
   "execution_count": null,
   "metadata": {},
   "outputs": [],
   "source": []
  },
  {
   "cell_type": "code",
   "execution_count": null,
   "metadata": {},
   "outputs": [],
   "source": [
    "for batch, data in enumerate(trainloader):\n",
    "    x = data[0]\n",
    "    y = data[1]\n",
    "\n",
    "    print(x.shape)\n",
    "    print(y.shape)\n",
    "\n",
    "    #output = decoder(x, y)\n",
    "    #print(output.shape)\n",
    "\n",
    "    break"
   ]
  },
  {
   "cell_type": "code",
   "execution_count": null,
   "metadata": {},
   "outputs": [],
   "source": [
    "chkpt_path = \"./chkpts/decoder_transformer_test_9\"\n",
    "chkpt = torch.load(chkpt_path, weights_only=False, map_location=torch.device('mps'))\n",
    "\n",
    "decoder = DecoderTransformer(\n",
    "    src_vocab_size=mathqa.src_vocab.__len__(),\n",
    "    trg_vocab_size=mathqa.trg_vocab.__len__(),\n",
    "    embed_dim=256,\n",
    "    num_layers=12,\n",
    "    num_heads=8,\n",
    "    max_trg_len=100,\n",
    ")\n",
    "\n",
    "#decoder.load_state_dict(chkpt['model_state_dict'])\n",
    "decoder.to('mps')\n",
    "\n",
    "trainable_params = sum(p.numel() for p in decoder.parameters() if p.requires_grad)\n",
    "print(trainable_params)"
   ]
  },
  {
   "cell_type": "code",
   "execution_count": null,
   "metadata": {},
   "outputs": [],
   "source": [
    "# load MathQA train dataset\n",
    "train_set = MathQA(split='train')\n",
    "\n",
    "# get source and target vocabs\n",
    "src_vocab = train_set.src_vocab\n",
    "trg_vocab = train_set.trg_vocab\n",
    "\n",
    "# load MathQA validation dataset\n",
    "validation_set = MathQA(src_vocab=src_vocab, split='validation')\n",
    "\n",
    "# get source and target vocab lengths\n",
    "src_vocab_len = len(src_vocab)\n",
    "trg_vocab_len = len(trg_vocab)\n",
    "\n",
    "print(len(train_set))\n",
    "print(len(validation_set))"
   ]
  },
  {
   "cell_type": "code",
   "execution_count": null,
   "metadata": {},
   "outputs": [],
   "source": []
  }
 ],
 "metadata": {
  "kernelspec": {
   "display_name": "pointcloud",
   "language": "python",
   "name": "python3"
  },
  "language_info": {
   "codemirror_mode": {
    "name": "ipython",
    "version": 3
   },
   "file_extension": ".py",
   "mimetype": "text/x-python",
   "name": "python",
   "nbconvert_exporter": "python",
   "pygments_lexer": "ipython3",
   "version": "3.10.16"
  }
 },
 "nbformat": 4,
 "nbformat_minor": 2
}
